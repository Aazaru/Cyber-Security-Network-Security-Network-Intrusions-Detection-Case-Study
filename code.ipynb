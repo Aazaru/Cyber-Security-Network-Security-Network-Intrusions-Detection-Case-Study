{
 "cells": [
  {
   "cell_type": "code",
   "execution_count": 1,
   "id": "ef91bb77",
   "metadata": {},
   "outputs": [
    {
     "data": {
      "text/plain": [
       "21651"
      ]
     },
     "execution_count": 1,
     "metadata": {},
     "output_type": "execute_result"
    }
   ],
   "source": [
    "968+30+7+53+2272+1554+5767+2964+10+5019+3007"
   ]
  },
  {
   "cell_type": "code",
   "execution_count": 2,
   "id": "b1bae9fa",
   "metadata": {},
   "outputs": [
    {
     "data": {
      "text/plain": [
       "21651"
      ]
     },
     "execution_count": 2,
     "metadata": {},
     "output_type": "execute_result"
    }
   ],
   "source": [
    "968+30+7+53+2272+1554+5767+2964+10+5019+3007"
   ]
  }
 ],
 "metadata": {
  "kernelspec": {
   "display_name": "Python 3 (ipykernel)",
   "language": "python",
   "name": "python3"
  },
  "language_info": {
   "codemirror_mode": {
    "name": "ipython",
    "version": 3
   },
   "file_extension": ".py",
   "mimetype": "text/x-python",
   "name": "python",
   "nbconvert_exporter": "python",
   "pygments_lexer": "ipython3",
   "version": "3.11.5"
  }
 },
 "nbformat": 4,
 "nbformat_minor": 5
}
